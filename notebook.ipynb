{
 "cells": [
  {
   "cell_type": "code",
   "execution_count": null,
   "metadata": {},
   "outputs": [],
   "source": [
    "# install libraries we will use\n",
    "!pip3 install ray pandas faker plotly altair vega"
   ]
  },
  {
   "cell_type": "code",
   "execution_count": 28,
   "metadata": {},
   "outputs": [],
   "source": [
    "from urllib.parse import urlparse\n",
    "from io import StringIO\n",
    "from collections import Counter\n",
    "from time import sleep\n",
    "import random, logging\n",
    "from itertools import combinations\n",
    "\n",
    "import ray\n",
    "import pandas as pd"
   ]
  },
  {
   "cell_type": "markdown",
   "metadata": {},
   "source": [
    "## Let's index the internet!"
   ]
  },
  {
   "cell_type": "code",
   "execution_count": 2,
   "metadata": {},
   "outputs": [],
   "source": [
    "#internet = requests.get('https://moz.com/top-500/download?table=top500Domains').text"
   ]
  },
  {
   "cell_type": "code",
   "execution_count": 3,
   "metadata": {},
   "outputs": [
    {
     "data": {
      "text/html": [
       "<div>\n",
       "<style scoped>\n",
       "    .dataframe tbody tr th:only-of-type {\n",
       "        vertical-align: middle;\n",
       "    }\n",
       "\n",
       "    .dataframe tbody tr th {\n",
       "        vertical-align: top;\n",
       "    }\n",
       "\n",
       "    .dataframe thead th {\n",
       "        text-align: right;\n",
       "    }\n",
       "</style>\n",
       "<table border=\"1\" class=\"dataframe\">\n",
       "  <thead>\n",
       "    <tr style=\"text-align: right;\">\n",
       "      <th></th>\n",
       "      <th>Rank</th>\n",
       "      <th>Root Domain</th>\n",
       "      <th>Linking Root Domains</th>\n",
       "      <th>Domain Authority</th>\n",
       "    </tr>\n",
       "  </thead>\n",
       "  <tbody>\n",
       "    <tr>\n",
       "      <th>0</th>\n",
       "      <td>1</td>\n",
       "      <td>apple.com</td>\n",
       "      <td>4,600,902</td>\n",
       "      <td>100</td>\n",
       "    </tr>\n",
       "    <tr>\n",
       "      <th>1</th>\n",
       "      <td>2</td>\n",
       "      <td>youtube.com</td>\n",
       "      <td>17,811,336</td>\n",
       "      <td>100</td>\n",
       "    </tr>\n",
       "    <tr>\n",
       "      <th>2</th>\n",
       "      <td>3</td>\n",
       "      <td>www.google.com</td>\n",
       "      <td>12,131,939</td>\n",
       "      <td>100</td>\n",
       "    </tr>\n",
       "    <tr>\n",
       "      <th>3</th>\n",
       "      <td>4</td>\n",
       "      <td>www.blogger.com</td>\n",
       "      <td>25,278,670</td>\n",
       "      <td>99</td>\n",
       "    </tr>\n",
       "    <tr>\n",
       "      <th>4</th>\n",
       "      <td>5</td>\n",
       "      <td>docs.google.com</td>\n",
       "      <td>2,273,261</td>\n",
       "      <td>99</td>\n",
       "    </tr>\n",
       "    <tr>\n",
       "      <th>...</th>\n",
       "      <td>...</td>\n",
       "      <td>...</td>\n",
       "      <td>...</td>\n",
       "      <td>...</td>\n",
       "    </tr>\n",
       "    <tr>\n",
       "      <th>495</th>\n",
       "      <td>496</td>\n",
       "      <td>lonelyplanet.com</td>\n",
       "      <td>152,050</td>\n",
       "      <td>92</td>\n",
       "    </tr>\n",
       "    <tr>\n",
       "      <th>496</th>\n",
       "      <td>497</td>\n",
       "      <td>entrepreneur.com</td>\n",
       "      <td>220,299</td>\n",
       "      <td>92</td>\n",
       "    </tr>\n",
       "    <tr>\n",
       "      <th>497</th>\n",
       "      <td>498</td>\n",
       "      <td>inc.com</td>\n",
       "      <td>208,880</td>\n",
       "      <td>92</td>\n",
       "    </tr>\n",
       "    <tr>\n",
       "      <th>498</th>\n",
       "      <td>499</td>\n",
       "      <td>fda.gov</td>\n",
       "      <td>281,189</td>\n",
       "      <td>92</td>\n",
       "    </tr>\n",
       "    <tr>\n",
       "      <th>499</th>\n",
       "      <td>500</td>\n",
       "      <td>upenn.edu</td>\n",
       "      <td>264,002</td>\n",
       "      <td>92</td>\n",
       "    </tr>\n",
       "  </tbody>\n",
       "</table>\n",
       "<p>500 rows × 4 columns</p>\n",
       "</div>"
      ],
      "text/plain": [
       "     Rank       Root Domain Linking Root Domains  Domain Authority\n",
       "0       1         apple.com            4,600,902               100\n",
       "1       2       youtube.com           17,811,336               100\n",
       "2       3    www.google.com           12,131,939               100\n",
       "3       4   www.blogger.com           25,278,670                99\n",
       "4       5   docs.google.com            2,273,261                99\n",
       "..    ...               ...                  ...               ...\n",
       "495   496  lonelyplanet.com              152,050                92\n",
       "496   497  entrepreneur.com              220,299                92\n",
       "497   498           inc.com              208,880                92\n",
       "498   499           fda.gov              281,189                92\n",
       "499   500         upenn.edu              264,002                92\n",
       "\n",
       "[500 rows x 4 columns]"
      ]
     },
     "execution_count": 3,
     "metadata": {},
     "output_type": "execute_result"
    }
   ],
   "source": [
    "df = pd.read_csv('internet.csv')\n",
    "df"
   ]
  },
  {
   "cell_type": "code",
   "execution_count": 7,
   "metadata": {},
   "outputs": [],
   "source": [
    "ray.init(ignore_reinit_error=True, logging_level=logging.CRITICAL)"
   ]
  },
  {
   "cell_type": "code",
   "execution_count": 8,
   "metadata": {},
   "outputs": [
    {
     "name": "stdout",
     "output_type": "stream",
     "text": [
      "[0, 1, 4, 9]\n"
     ]
    }
   ],
   "source": [
    "@ray.remote\n",
    "def f(x):\n",
    "    return x * x\n",
    "\n",
    "futures = [f.remote(i) for i in range(4)]\n",
    "print(ray.get(futures))"
   ]
  },
  {
   "cell_type": "code",
   "execution_count": 9,
   "metadata": {
    "scrolled": true
   },
   "outputs": [
    {
     "name": "stdout",
     "output_type": "stream",
     "text": [
      "\u001b[2m\u001b[36m(pid=89657)\u001b[0m I'm Sleeping on microsoft.com\n",
      "\u001b[2m\u001b[36m(pid=89658)\u001b[0m I'm Sleeping on youtube.com\n",
      "\u001b[2m\u001b[36m(pid=89662)\u001b[0m I'm Sleeping on www.blogger.com\n",
      "\u001b[2m\u001b[36m(pid=89659)\u001b[0m I'm Sleeping on apple.com\n",
      "\u001b[2m\u001b[36m(pid=89664)\u001b[0m I'm Sleeping on en.wikipedia.org\n",
      "\u001b[2m\u001b[36m(pid=89660)\u001b[0m I'm Sleeping on linkedin.com\n",
      "\u001b[2m\u001b[36m(pid=89661)\u001b[0m I'm Sleeping on cloudflare.com\n",
      "\u001b[2m\u001b[36m(pid=89665)\u001b[0m I'm Sleeping on wordpress.org\n",
      "\u001b[2m\u001b[36m(pid=89668)\u001b[0m I'm Sleeping on docs.google.com\n",
      "\u001b[2m\u001b[36m(pid=89666)\u001b[0m I'm Sleeping on play.google.com\n",
      "\u001b[2m\u001b[36m(pid=89667)\u001b[0m I'm Sleeping on www.google.com\n",
      "\u001b[2m\u001b[36m(pid=89686)\u001b[0m I'm Sleeping on support.google.com\n",
      "\u001b[2m\u001b[36m(pid=89657)\u001b[0m I'm Awake, time to get microsoft.com\n",
      "\u001b[2m\u001b[36m(pid=89657)\u001b[0m I'm Sleeping on vimeo.com\n",
      "\u001b[2m\u001b[36m(pid=89658)\u001b[0m I'm Awake, time to get youtube.com\n",
      "\u001b[2m\u001b[36m(pid=89658)\u001b[0m I'm Sleeping on googleusercontent.com\n",
      "\u001b[2m\u001b[36m(pid=89662)\u001b[0m I'm Awake, time to get www.blogger.com\n",
      "\u001b[2m\u001b[36m(pid=89662)\u001b[0m I'm Sleeping on medium.com\n",
      "\u001b[2m\u001b[36m(pid=89659)\u001b[0m I'm Awake, time to get apple.com\n",
      "\u001b[2m\u001b[36m(pid=89659)\u001b[0m I'm Sleeping on maps.google.com\n",
      "\u001b[2m\u001b[36m(pid=89664)\u001b[0m I'm Awake, time to get en.wikipedia.org\n",
      "\u001b[2m\u001b[36m(pid=89664)\u001b[0m I'm Sleeping on plus.google.com\n",
      "\u001b[2m\u001b[36m(pid=89660)\u001b[0m I'm Awake, time to get linkedin.com\n",
      "\u001b[2m\u001b[36m(pid=89660)\u001b[0m I'm Sleeping on youtu.be\n",
      "\u001b[2m\u001b[36m(pid=89661)\u001b[0m I'm Awake, time to get cloudflare.com\n",
      "\u001b[2m\u001b[36m(pid=89661)\u001b[0m I'm Sleeping on mozilla.org\n",
      "\u001b[2m\u001b[36m(pid=89665)\u001b[0m I'm Awake, time to get wordpress.org\n",
      "\u001b[2m\u001b[36m(pid=89665)\u001b[0m I'm Sleeping on drive.google.com\n",
      "\u001b[2m\u001b[36m(pid=89668)\u001b[0m I'm Awake, time to get docs.google.com\n",
      "\u001b[2m\u001b[36m(pid=89668)\u001b[0m I'm Sleeping on accounts.google.com\n",
      "\u001b[2m\u001b[36m(pid=89666)\u001b[0m I'm Awake, time to get play.google.com\n",
      "\u001b[2m\u001b[36m(pid=89666)\u001b[0m I'm Sleeping on adobe.com\n",
      "\u001b[2m\u001b[36m(pid=89667)\u001b[0m I'm Awake, time to get www.google.com\n",
      "\u001b[2m\u001b[36m(pid=89667)\u001b[0m I'm Sleeping on sites.google.com\n",
      "\u001b[2m\u001b[36m(pid=89686)\u001b[0m I'm Awake, time to get support.google.com\n",
      "\u001b[2m\u001b[36m(pid=89686)\u001b[0m I'm Sleeping on europa.eu\n",
      "\u001b[2m\u001b[36m(pid=89657)\u001b[0m I'm Awake, time to get vimeo.com\n",
      "\u001b[2m\u001b[36m(pid=89657)\u001b[0m I'm Sleeping on creativecommons.org\n",
      "\u001b[2m\u001b[36m(pid=89658)\u001b[0m I'm Awake, time to get googleusercontent.com\n",
      "\u001b[2m\u001b[36m(pid=89658)\u001b[0m I'm Sleeping on bbc.co.uk\n",
      "\u001b[2m\u001b[36m(pid=89662)\u001b[0m I'm Awake, time to get medium.com\n",
      "\u001b[2m\u001b[36m(pid=89659)\u001b[0m I'm Awake, time to get maps.google.com\n",
      "\u001b[2m\u001b[36m(pid=89659)\u001b[0m I'm Sleeping on istockphoto.com\n",
      "\u001b[2m\u001b[36m(pid=89664)\u001b[0m I'm Awake, time to get plus.google.com\n",
      "\u001b[2m\u001b[36m(pid=89660)\u001b[0m I'm Awake, time to get youtu.be\n",
      "\u001b[2m\u001b[36m(pid=89661)\u001b[0m I'm Awake, time to get mozilla.org\n",
      "\u001b[2m\u001b[36m(pid=89661)\u001b[0m I'm Sleeping on vk.com\n",
      "\u001b[2m\u001b[36m(pid=89665)\u001b[0m I'm Awake, time to get drive.google.com\n",
      "\u001b[2m\u001b[36m(pid=89668)\u001b[0m I'm Awake, time to get accounts.google.com\n",
      "\u001b[2m\u001b[36m(pid=89666)\u001b[0m I'm Awake, time to get adobe.com\n",
      "\u001b[2m\u001b[36m(pid=89666)\u001b[0m I'm Sleeping on bp.blogspot.com\n",
      "\u001b[2m\u001b[36m(pid=89667)\u001b[0m I'm Awake, time to get sites.google.com\n",
      "\u001b[2m\u001b[36m(pid=89686)\u001b[0m I'm Awake, time to get europa.eu\n",
      "\u001b[2m\u001b[36m(pid=89686)\u001b[0m I'm Sleeping on facebook.com\n"
     ]
    },
    {
     "data": {
      "text/plain": [
       "Counter({'com': 23, 'org': 4, 'eu': 1, 'be': 1, 'uk': 1})"
      ]
     },
     "execution_count": 9,
     "metadata": {},
     "output_type": "execute_result"
    },
    {
     "name": "stdout",
     "output_type": "stream",
     "text": [
      "\u001b[2m\u001b[36m(pid=89657)\u001b[0m I'm Awake, time to get creativecommons.org\n",
      "\u001b[2m\u001b[36m(pid=89658)\u001b[0m I'm Awake, time to get bbc.co.uk\n",
      "\u001b[2m\u001b[36m(pid=89659)\u001b[0m I'm Awake, time to get istockphoto.com\n",
      "\u001b[2m\u001b[36m(pid=89661)\u001b[0m I'm Awake, time to get vk.com\n",
      "\u001b[2m\u001b[36m(pid=89666)\u001b[0m I'm Awake, time to get bp.blogspot.com\n",
      "\u001b[2m\u001b[36m(pid=89686)\u001b[0m I'm Awake, time to get facebook.com\n"
     ]
    }
   ],
   "source": [
    "@ray.remote\n",
    "def index(url):\n",
    "    print(f\"I'm Sleeping on {url}\")\n",
    "    sleep(.5)\n",
    "    print(f\"I'm Awake, time to get {url}\")\n",
    "    return url.split('.')[-1]\n",
    "\n",
    "futures = [index.remote(site) for site in df['Root Domain'].to_list()[:30]]\n",
    "Counter(ray.get(futures))"
   ]
  },
  {
   "cell_type": "markdown",
   "metadata": {},
   "source": [
    "## Dashboard\n",
    "\n",
    "![](images/ray-dash.gif)"
   ]
  },
  {
   "cell_type": "markdown",
   "metadata": {},
   "source": [
    "## Introducing Actors (stateful tasks)\n",
    "\n",
    "Scheme made them [concrete](https://dspace.mit.edu/handle/1721.1/5794). Erlang made them [useful](https://erlang.org/doc/getting_started/conc_prog.html). Akka made them [cool](https://akka.io/). And now Ray makes them [easy](https://docs.ray.io/en/latest/ray-overview/index.html)!"
   ]
  },
  {
   "cell_type": "code",
   "execution_count": 10,
   "metadata": {},
   "outputs": [],
   "source": [
    "@ray.remote\n",
    "class Child(object):\n",
    "    def __init__(self):\n",
    "        from faker import Faker\n",
    "        self.name = Faker().name()\n",
    "        self.age = 1\n",
    "\n",
    "    def grow(self):\n",
    "        self.age += 1\n",
    "        return self.age\n",
    "\n",
    "    def greet(self):\n",
    "        return (\n",
    "            f'My name is {self.name} '\n",
    "            f'and I am {self.age} years old'\n",
    "        )"
   ]
  },
  {
   "cell_type": "code",
   "execution_count": 11,
   "metadata": {},
   "outputs": [
    {
     "name": "stdout",
     "output_type": "stream",
     "text": [
      "My name is Sean Patterson and I am 2 years old\n",
      "My name is Vanessa Crawford and I am 8 years old\n",
      "My name is Gregory Sandoval and I am 4 years old\n",
      "My name is William Lopez and I am 5 years old\n",
      "My name is Andrea Leon and I am 9 years old\n",
      "My name is Taylor Zimmerman and I am 9 years old\n",
      "My name is Brianna Daniel and I am 6 years old\n",
      "My name is Deanna Moyer and I am 5 years old\n",
      "My name is Taylor Shelton and I am 5 years old\n",
      "My name is Victoria Espinoza and I am 7 years old\n"
     ]
    }
   ],
   "source": [
    "children = [Child.remote() for i in range(10)]\n",
    "\n",
    "for c in children:\n",
    "    for _ in range(random.randint(1, 10)):\n",
    "        c.grow.remote()\n",
    "        \n",
    "futures = [c.greet.remote() for c in children]\n",
    "\n",
    "for future in ray.get(futures):\n",
    "    print(future)"
   ]
  },
  {
   "cell_type": "code",
   "execution_count": 12,
   "metadata": {},
   "outputs": [],
   "source": [
    "c = children[0]"
   ]
  },
  {
   "cell_type": "code",
   "execution_count": 13,
   "metadata": {},
   "outputs": [
    {
     "name": "stdout",
     "output_type": "stream",
     "text": [
      "[3, 4, 5, 6, 7]\n"
     ]
    }
   ],
   "source": [
    "print(ray.get([c.grow.remote() for _ in range(5)]))"
   ]
  },
  {
   "cell_type": "code",
   "execution_count": 14,
   "metadata": {},
   "outputs": [
    {
     "data": {
      "text/plain": [
       "[None, None, None, None, None, None, None, None, None, None]"
      ]
     },
     "execution_count": 14,
     "metadata": {},
     "output_type": "execute_result"
    }
   ],
   "source": [
    "# actors stay around as long as they are in scope\n",
    "# since nothing really goes out of scope in a notebook\n",
    "# we have to manually terminate them\n",
    "[ ray.kill(person) for person in children ]"
   ]
  },
  {
   "cell_type": "code",
   "execution_count": 15,
   "metadata": {},
   "outputs": [],
   "source": [
    "# or just shutdown ray\n",
    "ray.shutdown()"
   ]
  },
  {
   "attachments": {
    "image.png": {
     "image/png": "[encoded data removed]"
    }
   },
   "cell_type": "markdown",
   "metadata": {},
   "source": [
    "## Simulating a pandemic\n",
    "\n",
    "> note this is a toy model simulation, results should not be used to inform health decisions or personal behavior\n",
    "\n",
    "### The SIR epidemic model:\n",
    "\n",
    "![image.png](attachment:image.png)\n",
    "\n",
    "$S(t)$: susceptible individuals who have not yet been infected at time $t$\n",
    "\n",
    "$I(t)$: number of infections individuals at time $t$\n",
    "\n",
    "$R(t)$: number of individuals who have recovered (and are immune) at time $t$\n",
    "\n",
    "#### Parameters\n",
    "\n",
    "$\\beta$: probablity of transmitted the disease from an infected to a susceptible individual\n",
    "\n",
    "$\\gamma$: recovery rate ~ $\\frac{1}{\\text{duration of disease}}$\n",
    "\n",
    "We will follow the [EMOD compartamental model](https://idmod.org/docs/emod/malaria/model-compartments.html) to simulate the SIR model as a series of discrete timesteps. For something like reinforcement learning, instead of disease dynamics you simulate actions in an environment/game."
   ]
  },
  {
   "cell_type": "code",
   "execution_count": 16,
   "metadata": {},
   "outputs": [],
   "source": [
    "ray.init(ignore_reinit_error=True, logging_level=logging.ERROR)\n",
    "\n",
    "# parameters\n",
    "b = 0.5\n",
    "b_0 = 0.2\n",
    "g = 0.2"
   ]
  },
  {
   "cell_type": "code",
   "execution_count": 17,
   "metadata": {},
   "outputs": [],
   "source": [
    "@ray.remote\n",
    "class Person(object):\n",
    "    def __init__(self, i):\n",
    "        self.index = i\n",
    "        self.state = 'i' if random.random() < b_0 else 's'\n",
    "        self.x = random.randint(0, 10)\n",
    "        self.y = random.randint(0, 10)\n",
    "\n",
    "    def location(self):\n",
    "        return (self.x, self.y)\n",
    "    \n",
    "    def health(self):\n",
    "        return self.state\n",
    "    \n",
    "    def index(self):\n",
    "        return self.index\n",
    "    \n",
    "    def status(self):\n",
    "        return f\"Individual {self.index} at {self.location()} is currently {self.state}\"\n",
    "        \n",
    "    # Just getters/setters above 👆\n",
    "    \n",
    "    # Actual methods below 👇\n",
    "    def walk(self):\n",
    "        if self.state == 'i':\n",
    "            if random.random() < g:\n",
    "                print(f\"Individual {self.index} has recovered 🤗\")\n",
    "                self.state = 'r'\n",
    "                \n",
    "        self.x += random.randint(-1, 1)\n",
    "        self.x += random.randint(-1, 1)\n",
    "        \n",
    "        self.x = max(min(self.x, 10), 0)\n",
    "        self.y = max(min(self.y, 10), 0)\n",
    "        \n",
    "    def contract(self):\n",
    "        print(f\"{self.index} has become sick 🤮\")\n",
    "        self.state = 'i'\n",
    "    \n",
    "    def interact(self, stranger):\n",
    "        x, y = ray.get(stranger.location.remote())\n",
    "        state = ray.get(stranger.health.remote())\n",
    "        \n",
    "        # is the stranger close to me\n",
    "        if (abs(x - self.x) <= 1) and (abs(y - self.y) <= 1):\n",
    "            # is either of us infected?\n",
    "            if self.state == 'i' or state == 'i':\n",
    "                # can either of us _get_ infected?\n",
    "                if self.state == 's' or state == 's':\n",
    "                    # which one of us can get the disease\n",
    "                    target = self.contract if self.state == 's' else stranger.contract.remote\n",
    "                    \n",
    "                    # roll the dice babeeeeee\n",
    "                    if random.random() < b:\n",
    "                        target()                "
   ]
  },
  {
   "cell_type": "code",
   "execution_count": 19,
   "metadata": {},
   "outputs": [],
   "source": [
    "people = [Person.remote(i) for i in range(10)]"
   ]
  },
  {
   "cell_type": "code",
   "execution_count": 20,
   "metadata": {},
   "outputs": [],
   "source": [
    "person = people[0]"
   ]
  },
  {
   "cell_type": "code",
   "execution_count": 21,
   "metadata": {},
   "outputs": [
    {
     "data": {
      "text/plain": [
       "(0, 3)"
      ]
     },
     "execution_count": 21,
     "metadata": {},
     "output_type": "execute_result"
    }
   ],
   "source": [
    "ray.get(person.location.remote())"
   ]
  },
  {
   "cell_type": "code",
   "execution_count": 22,
   "metadata": {},
   "outputs": [
    {
     "data": {
      "text/plain": [
       "[(0, 3),\n",
       " (5, 3),\n",
       " (10, 10),\n",
       " (5, 2),\n",
       " (5, 1),\n",
       " (4, 0),\n",
       " (8, 8),\n",
       " (1, 5),\n",
       " (4, 1),\n",
       " (6, 3)]"
      ]
     },
     "execution_count": 22,
     "metadata": {},
     "output_type": "execute_result"
    }
   ],
   "source": [
    "ray.get([p.location.remote() for p in people])"
   ]
  },
  {
   "cell_type": "code",
   "execution_count": 24,
   "metadata": {},
   "outputs": [
    {
     "data": {
      "text/plain": [
       "['s', 's', 's', 's', 's', 's', 's', 's', 's', 's']"
      ]
     },
     "execution_count": 24,
     "metadata": {},
     "output_type": "execute_result"
    }
   ],
   "source": [
    "ray.get([p.health.remote() for p in people])"
   ]
  },
  {
   "cell_type": "code",
   "execution_count": 25,
   "metadata": {},
   "outputs": [],
   "source": [
    "for person in people:\n",
    "    ray.kill(person)"
   ]
  },
  {
   "cell_type": "code",
   "execution_count": 26,
   "metadata": {},
   "outputs": [
    {
     "ename": "RayActorError",
     "evalue": "The actor died unexpectedly before finishing this task.",
     "output_type": "error",
     "traceback": [
      "\u001b[0;31m---------------------------------------------------------------------------\u001b[0m",
      "\u001b[0;31mRayActorError\u001b[0m                             Traceback (most recent call last)",
      "\u001b[0;32m<ipython-input-26-a8300791342e>\u001b[0m in \u001b[0;36m<module>\u001b[0;34m\u001b[0m\n\u001b[0;32m----> 1\u001b[0;31m \u001b[0mray\u001b[0m\u001b[0;34m.\u001b[0m\u001b[0mget\u001b[0m\u001b[0;34m(\u001b[0m\u001b[0;34m[\u001b[0m\u001b[0mp\u001b[0m\u001b[0;34m.\u001b[0m\u001b[0mhealth\u001b[0m\u001b[0;34m.\u001b[0m\u001b[0mremote\u001b[0m\u001b[0;34m(\u001b[0m\u001b[0;34m)\u001b[0m \u001b[0;32mfor\u001b[0m \u001b[0mp\u001b[0m \u001b[0;32min\u001b[0m \u001b[0mpeople\u001b[0m\u001b[0;34m]\u001b[0m\u001b[0;34m)\u001b[0m\u001b[0;34m\u001b[0m\u001b[0;34m\u001b[0m\u001b[0m\n\u001b[0m",
      "\u001b[0;32m/usr/local/lib/python3.8/site-packages/ray/worker.py\u001b[0m in \u001b[0;36mget\u001b[0;34m(object_refs, timeout)\u001b[0m\n\u001b[1;32m   1538\u001b[0m                     \u001b[0;32mraise\u001b[0m \u001b[0mvalue\u001b[0m\u001b[0;34m.\u001b[0m\u001b[0mas_instanceof_cause\u001b[0m\u001b[0;34m(\u001b[0m\u001b[0;34m)\u001b[0m\u001b[0;34m\u001b[0m\u001b[0;34m\u001b[0m\u001b[0m\n\u001b[1;32m   1539\u001b[0m                 \u001b[0;32melse\u001b[0m\u001b[0;34m:\u001b[0m\u001b[0;34m\u001b[0m\u001b[0;34m\u001b[0m\u001b[0m\n\u001b[0;32m-> 1540\u001b[0;31m                     \u001b[0;32mraise\u001b[0m \u001b[0mvalue\u001b[0m\u001b[0;34m\u001b[0m\u001b[0;34m\u001b[0m\u001b[0m\n\u001b[0m\u001b[1;32m   1541\u001b[0m \u001b[0;34m\u001b[0m\u001b[0m\n\u001b[1;32m   1542\u001b[0m         \u001b[0;31m# Run post processors.\u001b[0m\u001b[0;34m\u001b[0m\u001b[0;34m\u001b[0m\u001b[0;34m\u001b[0m\u001b[0m\n",
      "\u001b[0;31mRayActorError\u001b[0m: The actor died unexpectedly before finishing this task."
     ]
    }
   ],
   "source": [
    "ray.get([p.health.remote() for p in people])"
   ]
  },
  {
   "cell_type": "code",
   "execution_count": 27,
   "metadata": {},
   "outputs": [],
   "source": [
    "people = [Person.remote(i) for i in range(10)]"
   ]
  },
  {
   "cell_type": "code",
   "execution_count": 29,
   "metadata": {},
   "outputs": [],
   "source": [
    "for person1, person2 in combinations(people, 2):\n",
    "    person1.interact.remote(person2)"
   ]
  },
  {
   "cell_type": "code",
   "execution_count": 30,
   "metadata": {},
   "outputs": [
    {
     "data": {
      "text/plain": [
       "{'node_ip_address': '192.168.1.107',\n",
       " 'raylet_ip_address': '192.168.1.107',\n",
       " 'redis_address': '192.168.1.107:6379',\n",
       " 'object_store_address': '/tmp/ray/session_2020-09-01_00-30-25_928479_89641/sockets/plasma_store',\n",
       " 'raylet_socket_name': '/tmp/ray/session_2020-09-01_00-30-25_928479_89641/sockets/raylet',\n",
       " 'webui_url': 'localhost:8265',\n",
       " 'session_dir': '/tmp/ray/session_2020-09-01_00-30-25_928479_89641'}"
      ]
     },
     "execution_count": 30,
     "metadata": {},
     "output_type": "execute_result"
    }
   ],
   "source": [
    "ray.shutdown()\n",
    "ray.init(ignore_reinit_error=True, logging_level=logging.ERROR)"
   ]
  },
  {
   "cell_type": "markdown",
   "metadata": {},
   "source": [
    "## Putting it all together"
   ]
  },
  {
   "cell_type": "code",
   "execution_count": 31,
   "metadata": {},
   "outputs": [
    {
     "name": "stdout",
     "output_type": "stream",
     "text": [
      "\n",
      "Iteration 0\n",
      "\n",
      "\n",
      "\u001b[2m\u001b[36m(pid=89808)\u001b[0m Individual 3 has recovered 🤗\n",
      "\u001b[2m\u001b[36m(pid=89859)\u001b[0m Individual 35 has recovered 🤗\n",
      "\u001b[2m\u001b[36m(pid=89872)\u001b[0m 36 has become sick 🤮\n",
      "\u001b[2m\u001b[36m(pid=89874)\u001b[0m 37 has become sick 🤮\n",
      "\u001b[2m\u001b[36m(pid=89854)\u001b[0m 33 has become sick 🤮\n",
      "\u001b[2m\u001b[36m(pid=89856)\u001b[0m 31 has become sick 🤮\n",
      "\u001b[2m\u001b[36m(pid=89850)\u001b[0m 27 has become sick 🤮\n",
      "\u001b[2m\u001b[36m(pid=89831)\u001b[0m 18 has become sick 🤮\n",
      "\u001b[2m\u001b[36m(pid=89885)\u001b[0m 42 has become sick 🤮\n",
      "\u001b[2m\u001b[36m(pid=89824)\u001b[0m 15 has become sick 🤮\n",
      "\u001b[2m\u001b[36m(pid=89805)\u001b[0m 9 has become sick 🤮\n",
      "\u001b[2m\u001b[36m(pid=89804)\u001b[0m 7 has become sick 🤮\n",
      "\u001b[2m\u001b[36m(pid=89801)\u001b[0m 5 has become sick 🤮\n",
      "\u001b[2m\u001b[36m(pid=89857)\u001b[0m 30 has become sick 🤮\n",
      "\u001b[2m\u001b[36m(pid=89800)\u001b[0m 2 has become sick 🤮\n",
      "\n",
      "Iteration 1\n",
      "\n",
      "\n",
      "\u001b[2m\u001b[36m(pid=89850)\u001b[0m Individual 27 has recovered 🤗\n",
      "\u001b[2m\u001b[36m(pid=89855)\u001b[0m Individual 32 has recovered 🤗\n",
      "\u001b[2m\u001b[36m(pid=89885)\u001b[0m Individual 42 has recovered 🤗\n",
      "\u001b[2m\u001b[36m(pid=89892)\u001b[0m Individual 47 has recovered 🤗\n",
      "\u001b[2m\u001b[36m(pid=89897)\u001b[0m 49 has become sick 🤮\n",
      "\u001b[2m\u001b[36m(pid=89827)\u001b[0m 13 has become sick 🤮\n",
      "\u001b[2m\u001b[36m(pid=89848)\u001b[0m 24 has become sick 🤮\n",
      "\u001b[2m\u001b[36m(pid=89832)\u001b[0m 21 has become sick 🤮\n",
      "\u001b[2m\u001b[36m(pid=89849)\u001b[0m 25 has become sick 🤮\n",
      "\u001b[2m\u001b[36m(pid=89870)\u001b[0m 34 has become sick 🤮\n",
      "\n",
      "Iteration 2\n",
      "\n",
      "\n",
      "\u001b[2m\u001b[36m(pid=89870)\u001b[0m Individual 34 has recovered 🤗\n",
      "\u001b[2m\u001b[36m(pid=89872)\u001b[0m Individual 36 has recovered 🤗\n",
      "\u001b[2m\u001b[36m(pid=89801)\u001b[0m Individual 5 has recovered 🤗\n",
      "\u001b[2m\u001b[36m(pid=89809)\u001b[0m 8 has become sick 🤮\n",
      "\n",
      "Iteration 3\n",
      "\n",
      "\n",
      "\u001b[2m\u001b[36m(pid=89829)\u001b[0m Individual 16 has recovered 🤗\n",
      "\u001b[2m\u001b[36m(pid=89830)\u001b[0m Individual 17 has recovered 🤗\n",
      "\u001b[2m\u001b[36m(pid=89831)\u001b[0m Individual 18 has recovered 🤗\n",
      "\u001b[2m\u001b[36m(pid=89897)\u001b[0m Individual 49 has recovered 🤗\n",
      "\u001b[2m\u001b[36m(pid=89802)\u001b[0m 4 has become sick 🤮\n",
      "\u001b[2m\u001b[36m(pid=89851)\u001b[0m 28 has become sick 🤮\n",
      "\u001b[2m\u001b[36m(pid=89875)\u001b[0m 40 has become sick 🤮\n",
      "\u001b[2m\u001b[36m(pid=89876)\u001b[0m 41 has become sick 🤮\n",
      "\n",
      "Iteration 4\n",
      "\n",
      "\n",
      "\u001b[2m\u001b[36m(pid=89824)\u001b[0m Individual 15 has recovered 🤗\n",
      "\u001b[2m\u001b[36m(pid=89849)\u001b[0m Individual 25 has recovered 🤗\n",
      "\u001b[2m\u001b[36m(pid=89874)\u001b[0m Individual 37 has recovered 🤗\n",
      "\u001b[2m\u001b[36m(pid=89876)\u001b[0m Individual 41 has recovered 🤗\n",
      "\u001b[2m\u001b[36m(pid=89804)\u001b[0m Individual 7 has recovered 🤗\n",
      "\n",
      "Iteration 5\n",
      "\n",
      "\n",
      "\u001b[2m\u001b[36m(pid=89802)\u001b[0m Individual 4 has recovered 🤗\n",
      "\u001b[2m\u001b[36m(pid=89805)\u001b[0m Individual 9 has recovered 🤗\n",
      "\u001b[2m\u001b[36m(pid=89832)\u001b[0m Individual 21 has recovered 🤗\n",
      "\u001b[2m\u001b[36m(pid=89848)\u001b[0m Individual 24 has recovered 🤗\n",
      "\u001b[2m\u001b[36m(pid=89854)\u001b[0m Individual 33 has recovered 🤗\n",
      "\u001b[2m\u001b[36m(pid=89893)\u001b[0m Individual 46 has recovered 🤗\n",
      "\n",
      "Iteration 6\n",
      "\n",
      "\n",
      "\u001b[2m\u001b[36m(pid=89800)\u001b[0m Individual 2 has recovered 🤗\n",
      "\u001b[2m\u001b[36m(pid=89875)\u001b[0m Individual 40 has recovered 🤗\n",
      "\u001b[2m\u001b[36m(pid=89825)\u001b[0m 12 has become sick 🤮\n",
      "\u001b[2m\u001b[36m(pid=89877)\u001b[0m 38 has become sick 🤮\n",
      "\n",
      "Iteration 7\n",
      "\n",
      "\n",
      "\u001b[2m\u001b[36m(pid=89857)\u001b[0m Individual 30 has recovered 🤗\n",
      "\n",
      "Iteration 8\n",
      "\n",
      "\n",
      "\u001b[2m\u001b[36m(pid=89877)\u001b[0m Individual 38 has recovered 🤗\n",
      "\u001b[2m\u001b[36m(pid=89884)\u001b[0m Individual 45 has recovered 🤗\n",
      "\n",
      "Iteration 9\n",
      "\n",
      "\n",
      "\u001b[2m\u001b[36m(pid=89856)\u001b[0m Individual 31 has recovered 🤗\n",
      "\n",
      "Iteration 10\n",
      "\n",
      "\n",
      "\u001b[2m\u001b[36m(pid=89827)\u001b[0m Individual 13 has recovered 🤗\n",
      "\u001b[2m\u001b[36m(pid=89851)\u001b[0m Individual 28 has recovered 🤗\n",
      "\n",
      "Iteration 11\n",
      "\n",
      "\n",
      "\n",
      "Iteration 12\n",
      "\n",
      "\n",
      "\u001b[2m\u001b[36m(pid=89809)\u001b[0m Individual 8 has recovered 🤗\n",
      "\u001b[2m\u001b[36m(pid=89825)\u001b[0m Individual 12 has recovered 🤗\n",
      "\n",
      "Iteration 13\n",
      "\n",
      "\n",
      "\n",
      "Iteration 14\n",
      "\n",
      "\n",
      "\n",
      "Iteration 15\n",
      "\n",
      "\n",
      "\n",
      "Iteration 16\n",
      "\n",
      "\n",
      "\n",
      "Iteration 17\n",
      "\n",
      "\n",
      "\n",
      "Iteration 18\n",
      "\n",
      "\n",
      "\n",
      "Iteration 19\n",
      "\n",
      "\n"
     ]
    }
   ],
   "source": [
    "n = 50\n",
    "\n",
    "progress = {\n",
    "    's': [],\n",
    "    'i': [],\n",
    "    'r': []\n",
    "}\n",
    "\n",
    "people = [Person.remote(i) for i in range(n)]\n",
    "\n",
    "for i in range(20):\n",
    "    print(f\"\\nIteration {i}\\n\\n\")\n",
    "    for k in progress:\n",
    "        progress[k].append(0)\n",
    "        \n",
    "    for person in people:\n",
    "        person.walk.remote()\n",
    "        \n",
    "    # everybody's mingling....\n",
    "    pairs = list(combinations(people, 2))\n",
    "            \n",
    "    for p1, p2 in pairs:\n",
    "        p1.interact.remote(p2)\n",
    "        \n",
    "    for p in people:\n",
    "        progress[ray.get(p.health.remote())][-1] += 1"
   ]
  },
  {
   "cell_type": "code",
   "execution_count": 33,
   "metadata": {},
   "outputs": [
    {
     "data": {
      "text/html": [
       "<div>\n",
       "<style scoped>\n",
       "    .dataframe tbody tr th:only-of-type {\n",
       "        vertical-align: middle;\n",
       "    }\n",
       "\n",
       "    .dataframe tbody tr th {\n",
       "        vertical-align: top;\n",
       "    }\n",
       "\n",
       "    .dataframe thead th {\n",
       "        text-align: right;\n",
       "    }\n",
       "</style>\n",
       "<table border=\"1\" class=\"dataframe\">\n",
       "  <thead>\n",
       "    <tr style=\"text-align: right;\">\n",
       "      <th></th>\n",
       "      <th>index</th>\n",
       "      <th>variable</th>\n",
       "      <th>percent</th>\n",
       "      <th>status</th>\n",
       "    </tr>\n",
       "  </thead>\n",
       "  <tbody>\n",
       "    <tr>\n",
       "      <th>0</th>\n",
       "      <td>0</td>\n",
       "      <td>s</td>\n",
       "      <td>0.58</td>\n",
       "      <td>Susceptible</td>\n",
       "    </tr>\n",
       "    <tr>\n",
       "      <th>1</th>\n",
       "      <td>1</td>\n",
       "      <td>s</td>\n",
       "      <td>0.46</td>\n",
       "      <td>Susceptible</td>\n",
       "    </tr>\n",
       "    <tr>\n",
       "      <th>2</th>\n",
       "      <td>2</td>\n",
       "      <td>s</td>\n",
       "      <td>0.44</td>\n",
       "      <td>Susceptible</td>\n",
       "    </tr>\n",
       "    <tr>\n",
       "      <th>3</th>\n",
       "      <td>3</td>\n",
       "      <td>s</td>\n",
       "      <td>0.36</td>\n",
       "      <td>Susceptible</td>\n",
       "    </tr>\n",
       "    <tr>\n",
       "      <th>4</th>\n",
       "      <td>4</td>\n",
       "      <td>s</td>\n",
       "      <td>0.36</td>\n",
       "      <td>Susceptible</td>\n",
       "    </tr>\n",
       "  </tbody>\n",
       "</table>\n",
       "</div>"
      ],
      "text/plain": [
       "   index variable  percent       status\n",
       "0      0        s     0.58  Susceptible\n",
       "1      1        s     0.46  Susceptible\n",
       "2      2        s     0.44  Susceptible\n",
       "3      3        s     0.36  Susceptible\n",
       "4      4        s     0.36  Susceptible"
      ]
     },
     "execution_count": 33,
     "metadata": {},
     "output_type": "execute_result"
    }
   ],
   "source": [
    "df = pd.DataFrame(progress).reset_index()\n",
    "melted = pd.melt(df, id_vars=['index'], value_vars=['s', 'i', 'r'])\n",
    "melted.columns = ['index', 'variable', 'percent']\n",
    "melted.loc[melted.variable == \"s\", \"status\"] = 'Susceptible'\n",
    "melted.loc[melted.variable == \"i\", \"status\"] = 'Infected'\n",
    "melted.loc[melted.variable == \"r\", \"status\"] = 'Recovered'\n",
    "melted['percent'] = melted.percent / n\n",
    "melted.head()"
   ]
  },
  {
   "cell_type": "code",
   "execution_count": 34,
   "metadata": {},
   "outputs": [
    {
     "name": "stdout",
     "output_type": "stream",
     "text": [
      "Individual 0 at (2, 10) is currently s\n",
      "Individual 1 at (8, 4) is currently s\n",
      "Individual 2 at (4, 5) is currently r\n",
      "Individual 3 at (6, 10) is currently r\n",
      "Individual 4 at (6, 6) is currently r\n",
      "Individual 5 at (6, 5) is currently r\n",
      "Individual 6 at (7, 10) is currently s\n",
      "Individual 7 at (3, 6) is currently r\n",
      "Individual 8 at (10, 7) is currently r\n",
      "Individual 9 at (3, 6) is currently r\n",
      "Individual 10 at (3, 1) is currently s\n",
      "Individual 11 at (8, 4) is currently s\n",
      "Individual 12 at (2, 4) is currently r\n",
      "Individual 13 at (8, 4) is currently r\n",
      "Individual 14 at (9, 10) is currently s\n",
      "Individual 15 at (1, 6) is currently r\n",
      "Individual 16 at (6, 10) is currently r\n",
      "Individual 17 at (1, 6) is currently r\n",
      "Individual 18 at (2, 5) is currently r\n",
      "Individual 19 at (1, 0) is currently s\n",
      "Individual 20 at (3, 0) is currently s\n",
      "Individual 21 at (3, 10) is currently r\n",
      "Individual 22 at (10, 0) is currently s\n",
      "Individual 23 at (9, 0) is currently s\n",
      "Individual 24 at (1, 3) is currently r\n",
      "Individual 25 at (3, 7) is currently r\n",
      "Individual 26 at (6, 2) is currently s\n",
      "Individual 27 at (7, 10) is currently r\n",
      "Individual 28 at (7, 3) is currently r\n",
      "Individual 29 at (2, 1) is currently s\n",
      "Individual 30 at (0, 6) is currently r\n",
      "Individual 31 at (1, 6) is currently r\n",
      "Individual 32 at (1, 8) is currently r\n",
      "Individual 33 at (9, 6) is currently r\n",
      "Individual 34 at (2, 8) is currently r\n",
      "Individual 35 at (1, 10) is currently r\n",
      "Individual 36 at (10, 10) is currently r\n",
      "Individual 37 at (2, 6) is currently r\n",
      "Individual 38 at (5, 4) is currently r\n",
      "Individual 39 at (7, 3) is currently s\n",
      "Individual 40 at (1, 7) is currently r\n",
      "Individual 41 at (9, 4) is currently r\n",
      "Individual 42 at (2, 5) is currently r\n",
      "Individual 43 at (10, 0) is currently s\n",
      "Individual 44 at (4, 0) is currently s\n",
      "Individual 45 at (7, 6) is currently r\n",
      "Individual 46 at (0, 7) is currently r\n",
      "Individual 47 at (6, 9) is currently r\n",
      "Individual 48 at (2, 10) is currently s\n",
      "Individual 49 at (7, 6) is currently r\n"
     ]
    }
   ],
   "source": [
    "for person in people:\n",
    "    print(ray.get(person.status.remote()))"
   ]
  },
  {
   "cell_type": "code",
   "execution_count": 35,
   "metadata": {},
   "outputs": [],
   "source": [
    "import altair as alt"
   ]
  },
  {
   "cell_type": "code",
   "execution_count": 36,
   "metadata": {},
   "outputs": [
    {
     "data": {
      "text/html": [
       "\n",
       "<div id=\"altair-viz-86548eba30a3411383604d7a1f7d3fca\"></div>\n",
       "<script type=\"text/javascript\">\n",
       "  (function(spec, embedOpt){\n",
       "    let outputDiv = document.currentScript.previousElementSibling;\n",
       "    if (outputDiv.id !== \"altair-viz-86548eba30a3411383604d7a1f7d3fca\") {\n",
       "      outputDiv = document.getElementById(\"altair-viz-86548eba30a3411383604d7a1f7d3fca\");\n",
       "    }\n",
       "    const paths = {\n",
       "      \"vega\": \"https://cdn.jsdelivr.net/npm//vega@5?noext\",\n",
       "      \"vega-lib\": \"https://cdn.jsdelivr.net/npm//vega-lib?noext\",\n",
       "      \"vega-lite\": \"https://cdn.jsdelivr.net/npm//vega-lite@4.8.1?noext\",\n",
       "      \"vega-embed\": \"https://cdn.jsdelivr.net/npm//vega-embed@6?noext\",\n",
       "    };\n",
       "\n",
       "    function loadScript(lib) {\n",
       "      return new Promise(function(resolve, reject) {\n",
       "        var s = document.createElement('script');\n",
       "        s.src = paths[lib];\n",
       "        s.async = true;\n",
       "        s.onload = () => resolve(paths[lib]);\n",
       "        s.onerror = () => reject(`Error loading script: ${paths[lib]}`);\n",
       "        document.getElementsByTagName(\"head\")[0].appendChild(s);\n",
       "      });\n",
       "    }\n",
       "\n",
       "    function showError(err) {\n",
       "      outputDiv.innerHTML = `<div class=\"error\" style=\"color:red;\">${err}</div>`;\n",
       "      throw err;\n",
       "    }\n",
       "\n",
       "    function displayChart(vegaEmbed) {\n",
       "      vegaEmbed(outputDiv, spec, embedOpt)\n",
       "        .catch(err => showError(`Javascript Error: ${err.message}<br>This usually means there's a typo in your chart specification. See the javascript console for the full traceback.`));\n",
       "    }\n",
       "\n",
       "    if(typeof define === \"function\" && define.amd) {\n",
       "      requirejs.config({paths});\n",
       "      require([\"vega-embed\"], displayChart, err => showError(`Error loading script: ${err.message}`));\n",
       "    } else if (typeof vegaEmbed === \"function\") {\n",
       "      displayChart(vegaEmbed);\n",
       "    } else {\n",
       "      loadScript(\"vega\")\n",
       "        .then(() => loadScript(\"vega-lite\"))\n",
       "        .then(() => loadScript(\"vega-embed\"))\n",
       "        .catch(showError)\n",
       "        .then(() => displayChart(vegaEmbed));\n",
       "    }\n",
       "  })({\"config\": {\"view\": {\"continuousWidth\": 400, \"continuousHeight\": 300}}, \"data\": {\"name\": \"data-054d7d8ffd4a1df9616e66a68c3edc0b\"}, \"mark\": \"area\", \"encoding\": {\"color\": {\"type\": \"nominal\", \"field\": \"status\", \"legend\": {\"title\": \"Individuals\"}, \"scale\": {\"domain\": [\"Infected\", \"Recovered\", \"Susceptible\"], \"range\": [\"rgb(242, 34, 255)\", \"rgb(144, 244, 148)\", \"rgb(167, 184, 227)\"]}}, \"tooltip\": [{\"type\": \"quantitative\", \"field\": \"percent\"}, {\"type\": \"nominal\", \"field\": \"status\"}], \"x\": {\"type\": \"quantitative\", \"axis\": {\"title\": \"t\"}, \"field\": \"index\", \"scale\": {\"domain\": [0, 19]}}, \"y\": {\"type\": \"quantitative\", \"axis\": {\"format\": \"%\", \"title\": \" \"}, \"field\": \"percent\", \"stack\": \"normalize\"}}, \"selection\": {\"selector001\": {\"type\": \"interval\", \"bind\": \"scales\", \"encodings\": [\"x\", \"y\"]}}, \"width\": 800, \"$schema\": \"https://vega.github.io/schema/vega-lite/v4.8.1.json\", \"datasets\": {\"data-054d7d8ffd4a1df9616e66a68c3edc0b\": [{\"index\": 0, \"variable\": \"s\", \"percent\": 0.58, \"status\": \"Susceptible\"}, {\"index\": 1, \"variable\": \"s\", \"percent\": 0.46, \"status\": \"Susceptible\"}, {\"index\": 2, \"variable\": \"s\", \"percent\": 0.44, \"status\": \"Susceptible\"}, {\"index\": 3, \"variable\": \"s\", \"percent\": 0.36, \"status\": \"Susceptible\"}, {\"index\": 4, \"variable\": \"s\", \"percent\": 0.36, \"status\": \"Susceptible\"}, {\"index\": 5, \"variable\": \"s\", \"percent\": 0.36, \"status\": \"Susceptible\"}, {\"index\": 6, \"variable\": \"s\", \"percent\": 0.32, \"status\": \"Susceptible\"}, {\"index\": 7, \"variable\": \"s\", \"percent\": 0.32, \"status\": \"Susceptible\"}, {\"index\": 8, \"variable\": \"s\", \"percent\": 0.32, \"status\": \"Susceptible\"}, {\"index\": 9, \"variable\": \"s\", \"percent\": 0.32, \"status\": \"Susceptible\"}, {\"index\": 10, \"variable\": \"s\", \"percent\": 0.32, \"status\": \"Susceptible\"}, {\"index\": 11, \"variable\": \"s\", \"percent\": 0.32, \"status\": \"Susceptible\"}, {\"index\": 12, \"variable\": \"s\", \"percent\": 0.32, \"status\": \"Susceptible\"}, {\"index\": 13, \"variable\": \"s\", \"percent\": 0.32, \"status\": \"Susceptible\"}, {\"index\": 14, \"variable\": \"s\", \"percent\": 0.32, \"status\": \"Susceptible\"}, {\"index\": 15, \"variable\": \"s\", \"percent\": 0.32, \"status\": \"Susceptible\"}, {\"index\": 16, \"variable\": \"s\", \"percent\": 0.32, \"status\": \"Susceptible\"}, {\"index\": 17, \"variable\": \"s\", \"percent\": 0.32, \"status\": \"Susceptible\"}, {\"index\": 18, \"variable\": \"s\", \"percent\": 0.32, \"status\": \"Susceptible\"}, {\"index\": 19, \"variable\": \"s\", \"percent\": 0.32, \"status\": \"Susceptible\"}, {\"index\": 0, \"variable\": \"i\", \"percent\": 0.38, \"status\": \"Infected\"}, {\"index\": 1, \"variable\": \"i\", \"percent\": 0.42, \"status\": \"Infected\"}, {\"index\": 2, \"variable\": \"i\", \"percent\": 0.38, \"status\": \"Infected\"}, {\"index\": 3, \"variable\": \"i\", \"percent\": 0.38, \"status\": \"Infected\"}, {\"index\": 4, \"variable\": \"i\", \"percent\": 0.28, \"status\": \"Infected\"}, {\"index\": 5, \"variable\": \"i\", \"percent\": 0.16, \"status\": \"Infected\"}, {\"index\": 6, \"variable\": \"i\", \"percent\": 0.16, \"status\": \"Infected\"}, {\"index\": 7, \"variable\": \"i\", \"percent\": 0.14, \"status\": \"Infected\"}, {\"index\": 8, \"variable\": \"i\", \"percent\": 0.1, \"status\": \"Infected\"}, {\"index\": 9, \"variable\": \"i\", \"percent\": 0.08, \"status\": \"Infected\"}, {\"index\": 10, \"variable\": \"i\", \"percent\": 0.04, \"status\": \"Infected\"}, {\"index\": 11, \"variable\": \"i\", \"percent\": 0.04, \"status\": \"Infected\"}, {\"index\": 12, \"variable\": \"i\", \"percent\": 0.0, \"status\": \"Infected\"}, {\"index\": 13, \"variable\": \"i\", \"percent\": 0.0, \"status\": \"Infected\"}, {\"index\": 14, \"variable\": \"i\", \"percent\": 0.0, \"status\": \"Infected\"}, {\"index\": 15, \"variable\": \"i\", \"percent\": 0.0, \"status\": \"Infected\"}, {\"index\": 16, \"variable\": \"i\", \"percent\": 0.0, \"status\": \"Infected\"}, {\"index\": 17, \"variable\": \"i\", \"percent\": 0.0, \"status\": \"Infected\"}, {\"index\": 18, \"variable\": \"i\", \"percent\": 0.0, \"status\": \"Infected\"}, {\"index\": 19, \"variable\": \"i\", \"percent\": 0.0, \"status\": \"Infected\"}, {\"index\": 0, \"variable\": \"r\", \"percent\": 0.04, \"status\": \"Recovered\"}, {\"index\": 1, \"variable\": \"r\", \"percent\": 0.12, \"status\": \"Recovered\"}, {\"index\": 2, \"variable\": \"r\", \"percent\": 0.18, \"status\": \"Recovered\"}, {\"index\": 3, \"variable\": \"r\", \"percent\": 0.26, \"status\": \"Recovered\"}, {\"index\": 4, \"variable\": \"r\", \"percent\": 0.36, \"status\": \"Recovered\"}, {\"index\": 5, \"variable\": \"r\", \"percent\": 0.48, \"status\": \"Recovered\"}, {\"index\": 6, \"variable\": \"r\", \"percent\": 0.52, \"status\": \"Recovered\"}, {\"index\": 7, \"variable\": \"r\", \"percent\": 0.54, \"status\": \"Recovered\"}, {\"index\": 8, \"variable\": \"r\", \"percent\": 0.58, \"status\": \"Recovered\"}, {\"index\": 9, \"variable\": \"r\", \"percent\": 0.6, \"status\": \"Recovered\"}, {\"index\": 10, \"variable\": \"r\", \"percent\": 0.64, \"status\": \"Recovered\"}, {\"index\": 11, \"variable\": \"r\", \"percent\": 0.64, \"status\": \"Recovered\"}, {\"index\": 12, \"variable\": \"r\", \"percent\": 0.68, \"status\": \"Recovered\"}, {\"index\": 13, \"variable\": \"r\", \"percent\": 0.68, \"status\": \"Recovered\"}, {\"index\": 14, \"variable\": \"r\", \"percent\": 0.68, \"status\": \"Recovered\"}, {\"index\": 15, \"variable\": \"r\", \"percent\": 0.68, \"status\": \"Recovered\"}, {\"index\": 16, \"variable\": \"r\", \"percent\": 0.68, \"status\": \"Recovered\"}, {\"index\": 17, \"variable\": \"r\", \"percent\": 0.68, \"status\": \"Recovered\"}, {\"index\": 18, \"variable\": \"r\", \"percent\": 0.68, \"status\": \"Recovered\"}, {\"index\": 19, \"variable\": \"r\", \"percent\": 0.68, \"status\": \"Recovered\"}]}}, {\"mode\": \"vega-lite\"});\n",
       "</script>"
      ],
      "text/plain": [
       "alt.Chart(...)"
      ]
     },
     "execution_count": 36,
     "metadata": {},
     "output_type": "execute_result"
    }
   ],
   "source": [
    "alt.Chart(melted, width=800).mark_area().encode(\n",
    "        alt.X(\n",
    "            \"index\", \n",
    "            scale=alt.Scale(domain=(0, 19)),\n",
    "            axis=alt.Axis(title=\"t\")\n",
    "            ), \n",
    "        alt.Y(\n",
    "            \"percent\", \n",
    "            stack=\"normalize\",\n",
    "            axis=alt.Axis(\n",
    "                title=\" \",\n",
    "                format=\"%\"\n",
    "            )\n",
    "        ),\n",
    "        color=alt.Color('status', \n",
    "                        legend=alt.Legend(title=\"Individuals\"), \n",
    "                        scale=alt.Scale(\n",
    "                            domain=['Infected', 'Recovered', \"Susceptible\"],\n",
    "                            range=['rgb(242, 34, 255)', 'rgb(144, 244, 148)', 'rgb(167, 184, 227)']\n",
    "                            )\n",
    "                       ),\n",
    "        tooltip=['percent', 'status']\n",
    ").interactive()"
   ]
  }
 ],
 "metadata": {
  "kernelspec": {
   "display_name": "Python 3",
   "language": "python",
   "name": "python3"
  },
  "language_info": {
   "codemirror_mode": {
    "name": "ipython",
    "version": 3
   },
   "file_extension": ".py",
   "mimetype": "text/x-python",
   "name": "python",
   "nbconvert_exporter": "python",
   "pygments_lexer": "ipython3",
   "version": "3.8.5"
  }
 },
 "nbformat": 4,
 "nbformat_minor": 2
}
